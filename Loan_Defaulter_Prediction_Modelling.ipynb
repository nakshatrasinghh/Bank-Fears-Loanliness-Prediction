{
  "nbformat": 4,
  "nbformat_minor": 0,
  "metadata": {
    "colab": {
      "name": "Loan Defaulter Prediction-Modelling.ipynb",
      "provenance": [],
      "collapsed_sections": []
    },
    "kernelspec": {
      "name": "python3",
      "display_name": "Python 3"
    }
  },
  "cells": [
    {
      "cell_type": "markdown",
      "metadata": {
        "id": "KEbcxNE0vkHS"
      },
      "source": [
        "# ***Bank Loan Defaulter Prediction using Boosting Algorithms - HackerEarth***\n",
        "\n",
        "# *Part 2 - Prediction Modelling*\n",
        "\n",
        "By Nakshatra Singh"
      ]
    },
    {
      "cell_type": "markdown",
      "metadata": {
        "id": "VZVvX91Ivwth"
      },
      "source": [
        "This notebook is an illustration on how to use boosting algorithms (Please see Part 1, if you haven't already) to predict if a bank customer is a defaulter or not. "
      ]
    },
    {
      "cell_type": "markdown",
      "metadata": {
        "id": "41FDenmcvri_"
      },
      "source": [
        "###**1. Retrieve and Inspect Dataset** \n",
        "\n",
        "Let's download the dataset provided by HackerEarth which is uploaded on my google drive. "
      ]
    },
    {
      "cell_type": "code",
      "metadata": {
        "id": "jECSp4oEvTX9",
        "outputId": "a47cfadd-4397-4fea-ab7c-12d54689b6ce",
        "colab": {
          "base_uri": "https://localhost:8080/"
        }
      },
      "source": [
        "!gdown --id 1OZGX6mpxC7ZmTZgXzq9PIvxtjuIk0-vN "
      ],
      "execution_count": null,
      "outputs": [
        {
          "output_type": "stream",
          "text": [
            "Downloading...\n",
            "From: https://drive.google.com/uc?id=1OZGX6mpxC7ZmTZgXzq9PIvxtjuIk0-vN\n",
            "To: /content/train_indessa.csv\n",
            "144MB [00:01, 88.6MB/s]\n"
          ],
          "name": "stdout"
        }
      ]
    },
    {
      "cell_type": "markdown",
      "metadata": {
        "id": "KFLEXA2OAG20"
      },
      "source": [
        "We'll use `pandas` to parse the csv files.   "
      ]
    },
    {
      "cell_type": "code",
      "metadata": {
        "id": "qHyII8cQv72u"
      },
      "source": [
        "import pandas as pd\n",
        "df = pd.read_csv('/content/train_indessa.csv') "
      ],
      "execution_count": null,
      "outputs": []
    },
    {
      "cell_type": "markdown",
      "metadata": {
        "id": "2KRJ1WTja6BJ"
      },
      "source": [
        "We'll also define the target column right away."
      ]
    },
    {
      "cell_type": "code",
      "metadata": {
        "id": "rUyxKo5Sa2d1"
      },
      "source": [
        "# Class Label : Binary Classification\n",
        "train_target = pd.DataFrame(df['loan_status']) "
      ],
      "execution_count": null,
      "outputs": []
    },
    {
      "cell_type": "markdown",
      "metadata": {
        "id": "El_N1iKZALMp"
      },
      "source": [
        "Let's take a look at the first few rows of the table just to see what's in there.   "
      ]
    },
    {
      "cell_type": "code",
      "metadata": {
        "id": "JFwjdCbkv-fA",
        "outputId": "768eb17e-8e08-4ef1-b054-4a5a5fa59ca0",
        "colab": {
          "base_uri": "https://localhost:8080/",
          "height": 465
        }
      },
      "source": [
        "df.head() "
      ],
      "execution_count": null,
      "outputs": [
        {
          "output_type": "execute_result",
          "data": {
            "text/html": [
              "<div>\n",
              "<style scoped>\n",
              "    .dataframe tbody tr th:only-of-type {\n",
              "        vertical-align: middle;\n",
              "    }\n",
              "\n",
              "    .dataframe tbody tr th {\n",
              "        vertical-align: top;\n",
              "    }\n",
              "\n",
              "    .dataframe thead th {\n",
              "        text-align: right;\n",
              "    }\n",
              "</style>\n",
              "<table border=\"1\" class=\"dataframe\">\n",
              "  <thead>\n",
              "    <tr style=\"text-align: right;\">\n",
              "      <th></th>\n",
              "      <th>member_id</th>\n",
              "      <th>loan_amnt</th>\n",
              "      <th>funded_amnt</th>\n",
              "      <th>funded_amnt_inv</th>\n",
              "      <th>term</th>\n",
              "      <th>batch_enrolled</th>\n",
              "      <th>int_rate</th>\n",
              "      <th>grade</th>\n",
              "      <th>sub_grade</th>\n",
              "      <th>emp_title</th>\n",
              "      <th>emp_length</th>\n",
              "      <th>home_ownership</th>\n",
              "      <th>annual_inc</th>\n",
              "      <th>verification_status</th>\n",
              "      <th>pymnt_plan</th>\n",
              "      <th>desc</th>\n",
              "      <th>purpose</th>\n",
              "      <th>title</th>\n",
              "      <th>zip_code</th>\n",
              "      <th>addr_state</th>\n",
              "      <th>dti</th>\n",
              "      <th>delinq_2yrs</th>\n",
              "      <th>inq_last_6mths</th>\n",
              "      <th>mths_since_last_delinq</th>\n",
              "      <th>mths_since_last_record</th>\n",
              "      <th>open_acc</th>\n",
              "      <th>pub_rec</th>\n",
              "      <th>revol_bal</th>\n",
              "      <th>revol_util</th>\n",
              "      <th>total_acc</th>\n",
              "      <th>initial_list_status</th>\n",
              "      <th>total_rec_int</th>\n",
              "      <th>total_rec_late_fee</th>\n",
              "      <th>recoveries</th>\n",
              "      <th>collection_recovery_fee</th>\n",
              "      <th>collections_12_mths_ex_med</th>\n",
              "      <th>mths_since_last_major_derog</th>\n",
              "      <th>application_type</th>\n",
              "      <th>verification_status_joint</th>\n",
              "      <th>last_week_pay</th>\n",
              "      <th>acc_now_delinq</th>\n",
              "      <th>tot_coll_amt</th>\n",
              "      <th>tot_cur_bal</th>\n",
              "      <th>total_rev_hi_lim</th>\n",
              "      <th>loan_status</th>\n",
              "    </tr>\n",
              "  </thead>\n",
              "  <tbody>\n",
              "    <tr>\n",
              "      <th>0</th>\n",
              "      <td>58189336</td>\n",
              "      <td>14350</td>\n",
              "      <td>14350</td>\n",
              "      <td>14350.0</td>\n",
              "      <td>36 months</td>\n",
              "      <td></td>\n",
              "      <td>19.19</td>\n",
              "      <td>E</td>\n",
              "      <td>E3</td>\n",
              "      <td>clerk</td>\n",
              "      <td>9 years</td>\n",
              "      <td>OWN</td>\n",
              "      <td>28700.0</td>\n",
              "      <td>Source Verified</td>\n",
              "      <td>n</td>\n",
              "      <td>NaN</td>\n",
              "      <td>debt_consolidation</td>\n",
              "      <td>Debt consolidation</td>\n",
              "      <td>349xx</td>\n",
              "      <td>FL</td>\n",
              "      <td>33.88</td>\n",
              "      <td>0.0</td>\n",
              "      <td>1.0</td>\n",
              "      <td>50.0</td>\n",
              "      <td>75.0</td>\n",
              "      <td>14.0</td>\n",
              "      <td>1.0</td>\n",
              "      <td>22515.0</td>\n",
              "      <td>73.1</td>\n",
              "      <td>28.0</td>\n",
              "      <td>f</td>\n",
              "      <td>1173.84</td>\n",
              "      <td>0.0</td>\n",
              "      <td>0.0</td>\n",
              "      <td>0.0</td>\n",
              "      <td>0.0</td>\n",
              "      <td>74.0</td>\n",
              "      <td>INDIVIDUAL</td>\n",
              "      <td>NaN</td>\n",
              "      <td>26th week</td>\n",
              "      <td>0.0</td>\n",
              "      <td>0.0</td>\n",
              "      <td>28699.0</td>\n",
              "      <td>30800.0</td>\n",
              "      <td>0</td>\n",
              "    </tr>\n",
              "    <tr>\n",
              "      <th>1</th>\n",
              "      <td>70011223</td>\n",
              "      <td>4800</td>\n",
              "      <td>4800</td>\n",
              "      <td>4800.0</td>\n",
              "      <td>36 months</td>\n",
              "      <td>BAT1586599</td>\n",
              "      <td>10.99</td>\n",
              "      <td>B</td>\n",
              "      <td>B4</td>\n",
              "      <td>Human Resources Specialist</td>\n",
              "      <td>&lt; 1 year</td>\n",
              "      <td>MORTGAGE</td>\n",
              "      <td>65000.0</td>\n",
              "      <td>Source Verified</td>\n",
              "      <td>n</td>\n",
              "      <td>NaN</td>\n",
              "      <td>home_improvement</td>\n",
              "      <td>Home improvement</td>\n",
              "      <td>209xx</td>\n",
              "      <td>MD</td>\n",
              "      <td>3.64</td>\n",
              "      <td>0.0</td>\n",
              "      <td>1.0</td>\n",
              "      <td>NaN</td>\n",
              "      <td>NaN</td>\n",
              "      <td>6.0</td>\n",
              "      <td>0.0</td>\n",
              "      <td>7624.0</td>\n",
              "      <td>23.2</td>\n",
              "      <td>13.0</td>\n",
              "      <td>w</td>\n",
              "      <td>83.95</td>\n",
              "      <td>0.0</td>\n",
              "      <td>0.0</td>\n",
              "      <td>0.0</td>\n",
              "      <td>0.0</td>\n",
              "      <td>NaN</td>\n",
              "      <td>INDIVIDUAL</td>\n",
              "      <td>NaN</td>\n",
              "      <td>9th week</td>\n",
              "      <td>0.0</td>\n",
              "      <td>0.0</td>\n",
              "      <td>9974.0</td>\n",
              "      <td>32900.0</td>\n",
              "      <td>0</td>\n",
              "    </tr>\n",
              "    <tr>\n",
              "      <th>2</th>\n",
              "      <td>70255675</td>\n",
              "      <td>10000</td>\n",
              "      <td>10000</td>\n",
              "      <td>10000.0</td>\n",
              "      <td>36 months</td>\n",
              "      <td>BAT1586599</td>\n",
              "      <td>7.26</td>\n",
              "      <td>A</td>\n",
              "      <td>A4</td>\n",
              "      <td>Driver</td>\n",
              "      <td>2 years</td>\n",
              "      <td>OWN</td>\n",
              "      <td>45000.0</td>\n",
              "      <td>Not Verified</td>\n",
              "      <td>n</td>\n",
              "      <td>NaN</td>\n",
              "      <td>debt_consolidation</td>\n",
              "      <td>Debt consolidation</td>\n",
              "      <td>447xx</td>\n",
              "      <td>OH</td>\n",
              "      <td>18.42</td>\n",
              "      <td>0.0</td>\n",
              "      <td>0.0</td>\n",
              "      <td>NaN</td>\n",
              "      <td>NaN</td>\n",
              "      <td>5.0</td>\n",
              "      <td>0.0</td>\n",
              "      <td>10877.0</td>\n",
              "      <td>31.2</td>\n",
              "      <td>19.0</td>\n",
              "      <td>w</td>\n",
              "      <td>56.47</td>\n",
              "      <td>0.0</td>\n",
              "      <td>0.0</td>\n",
              "      <td>0.0</td>\n",
              "      <td>0.0</td>\n",
              "      <td>NaN</td>\n",
              "      <td>INDIVIDUAL</td>\n",
              "      <td>NaN</td>\n",
              "      <td>9th week</td>\n",
              "      <td>0.0</td>\n",
              "      <td>65.0</td>\n",
              "      <td>38295.0</td>\n",
              "      <td>34900.0</td>\n",
              "      <td>0</td>\n",
              "    </tr>\n",
              "    <tr>\n",
              "      <th>3</th>\n",
              "      <td>1893936</td>\n",
              "      <td>15000</td>\n",
              "      <td>15000</td>\n",
              "      <td>15000.0</td>\n",
              "      <td>36 months</td>\n",
              "      <td>BAT4808022</td>\n",
              "      <td>19.72</td>\n",
              "      <td>D</td>\n",
              "      <td>D5</td>\n",
              "      <td>Us office of Personnel Management</td>\n",
              "      <td>10+ years</td>\n",
              "      <td>RENT</td>\n",
              "      <td>105000.0</td>\n",
              "      <td>Not Verified</td>\n",
              "      <td>n</td>\n",
              "      <td>&gt; My goal is to obtain a loan to pay off my hi...</td>\n",
              "      <td>debt_consolidation</td>\n",
              "      <td>Debt consolidation</td>\n",
              "      <td>221xx</td>\n",
              "      <td>VA</td>\n",
              "      <td>14.97</td>\n",
              "      <td>0.0</td>\n",
              "      <td>2.0</td>\n",
              "      <td>46.0</td>\n",
              "      <td>NaN</td>\n",
              "      <td>10.0</td>\n",
              "      <td>0.0</td>\n",
              "      <td>13712.0</td>\n",
              "      <td>55.5</td>\n",
              "      <td>21.0</td>\n",
              "      <td>f</td>\n",
              "      <td>4858.62</td>\n",
              "      <td>0.0</td>\n",
              "      <td>0.0</td>\n",
              "      <td>0.0</td>\n",
              "      <td>0.0</td>\n",
              "      <td>NaN</td>\n",
              "      <td>INDIVIDUAL</td>\n",
              "      <td>NaN</td>\n",
              "      <td>135th week</td>\n",
              "      <td>0.0</td>\n",
              "      <td>0.0</td>\n",
              "      <td>55564.0</td>\n",
              "      <td>24700.0</td>\n",
              "      <td>0</td>\n",
              "    </tr>\n",
              "    <tr>\n",
              "      <th>4</th>\n",
              "      <td>7652106</td>\n",
              "      <td>16000</td>\n",
              "      <td>16000</td>\n",
              "      <td>16000.0</td>\n",
              "      <td>36 months</td>\n",
              "      <td>BAT2833642</td>\n",
              "      <td>10.64</td>\n",
              "      <td>B</td>\n",
              "      <td>B2</td>\n",
              "      <td>LAUSD-HOLLYWOOD HIGH SCHOOL</td>\n",
              "      <td>10+ years</td>\n",
              "      <td>RENT</td>\n",
              "      <td>52000.0</td>\n",
              "      <td>Verified</td>\n",
              "      <td>n</td>\n",
              "      <td>NaN</td>\n",
              "      <td>credit_card</td>\n",
              "      <td>refi</td>\n",
              "      <td>900xx</td>\n",
              "      <td>CA</td>\n",
              "      <td>20.16</td>\n",
              "      <td>0.0</td>\n",
              "      <td>0.0</td>\n",
              "      <td>NaN</td>\n",
              "      <td>NaN</td>\n",
              "      <td>11.0</td>\n",
              "      <td>0.0</td>\n",
              "      <td>35835.0</td>\n",
              "      <td>76.2</td>\n",
              "      <td>27.0</td>\n",
              "      <td>w</td>\n",
              "      <td>2296.41</td>\n",
              "      <td>0.0</td>\n",
              "      <td>0.0</td>\n",
              "      <td>0.0</td>\n",
              "      <td>0.0</td>\n",
              "      <td>NaN</td>\n",
              "      <td>INDIVIDUAL</td>\n",
              "      <td>NaN</td>\n",
              "      <td>96th week</td>\n",
              "      <td>0.0</td>\n",
              "      <td>0.0</td>\n",
              "      <td>47159.0</td>\n",
              "      <td>47033.0</td>\n",
              "      <td>0</td>\n",
              "    </tr>\n",
              "  </tbody>\n",
              "</table>\n",
              "</div>"
            ],
            "text/plain": [
              "   member_id  loan_amnt  ...  total_rev_hi_lim  loan_status\n",
              "0   58189336      14350  ...           30800.0            0\n",
              "1   70011223       4800  ...           32900.0            0\n",
              "2   70255675      10000  ...           34900.0            0\n",
              "3    1893936      15000  ...           24700.0            0\n",
              "4    7652106      16000  ...           47033.0            0\n",
              "\n",
              "[5 rows x 45 columns]"
            ]
          },
          "metadata": {
            "tags": []
          },
          "execution_count": 4
        }
      ]
    },
    {
      "cell_type": "markdown",
      "metadata": {
        "id": "wwmjScOpAPNV"
      },
      "source": [
        "What's the distribution of our target variable?\n",
        " "
      ]
    },
    {
      "cell_type": "code",
      "metadata": {
        "id": "Ij2F4yoCvuxf",
        "outputId": "54e25cb0-4649-4d7f-ef06-c37b36bff632",
        "colab": {
          "base_uri": "https://localhost:8080/"
        }
      },
      "source": [
        "df['loan_status'].value_counts()"
      ],
      "execution_count": null,
      "outputs": [
        {
          "output_type": "execute_result",
          "data": {
            "text/plain": [
              "0    406601\n",
              "1    125827\n",
              "Name: loan_status, dtype: int64"
            ]
          },
          "metadata": {
            "tags": []
          },
          "execution_count": 5
        }
      ]
    },
    {
      "cell_type": "markdown",
      "metadata": {
        "id": "lccHlDIOASap"
      },
      "source": [
        "What all columns are present in the dataframe? "
      ]
    },
    {
      "cell_type": "code",
      "metadata": {
        "id": "b5FnQ9pTv_u-",
        "outputId": "1c1cdd27-30a6-497a-fc20-30480efaee15",
        "colab": {
          "base_uri": "https://localhost:8080/"
        }
      },
      "source": [
        "df.columns"
      ],
      "execution_count": null,
      "outputs": [
        {
          "output_type": "execute_result",
          "data": {
            "text/plain": [
              "Index(['member_id', 'loan_amnt', 'funded_amnt', 'funded_amnt_inv', 'term',\n",
              "       'batch_enrolled', 'int_rate', 'grade', 'sub_grade', 'emp_title',\n",
              "       'emp_length', 'home_ownership', 'annual_inc', 'verification_status',\n",
              "       'pymnt_plan', 'desc', 'purpose', 'title', 'zip_code', 'addr_state',\n",
              "       'dti', 'delinq_2yrs', 'inq_last_6mths', 'mths_since_last_delinq',\n",
              "       'mths_since_last_record', 'open_acc', 'pub_rec', 'revol_bal',\n",
              "       'revol_util', 'total_acc', 'initial_list_status', 'total_rec_int',\n",
              "       'total_rec_late_fee', 'recoveries', 'collection_recovery_fee',\n",
              "       'collections_12_mths_ex_med', 'mths_since_last_major_derog',\n",
              "       'application_type', 'verification_status_joint', 'last_week_pay',\n",
              "       'acc_now_delinq', 'tot_coll_amt', 'tot_cur_bal', 'total_rev_hi_lim',\n",
              "       'loan_status'],\n",
              "      dtype='object')"
            ]
          },
          "metadata": {
            "tags": []
          },
          "execution_count": 6
        }
      ]
    },
    {
      "cell_type": "markdown",
      "metadata": {
        "id": "iS-5vo5nAZ_b"
      },
      "source": [
        "###**2. Data Preprocessing**\n",
        "\n",
        "This is a very crucial step as it will sort of clean our features and help us in modelling the algorithm."
      ]
    },
    {
      "cell_type": "markdown",
      "metadata": {
        "id": "5eAXGqjGArer"
      },
      "source": [
        "###2.1 Term Feature\n",
        "\n",
        "We'll do some preprocessing for the `term` attribute."
      ]
    },
    {
      "cell_type": "code",
      "metadata": {
        "id": "2G18BepnwDWm"
      },
      "source": [
        "# Replaces months string with '' \n",
        "df['term'].replace(to_replace=' months', value='', regex=True, inplace=True) \n",
        "\n",
        "# Convert it to numeric\n",
        "df['term'] = pd.to_numeric(df['term'], errors='coerce')"
      ],
      "execution_count": null,
      "outputs": []
    },
    {
      "cell_type": "markdown",
      "metadata": {
        "id": "3ZbIQcWvBiJm"
      },
      "source": [
        "Let's have a look at the unique value distribution of the `term` column."
      ]
    },
    {
      "cell_type": "code",
      "metadata": {
        "id": "iiq1EWlAwPl4",
        "outputId": "0203695e-ef7a-489d-de9c-8343817580ba",
        "colab": {
          "base_uri": "https://localhost:8080/"
        }
      },
      "source": [
        "df['term'].value_counts() "
      ],
      "execution_count": null,
      "outputs": [
        {
          "output_type": "execute_result",
          "data": {
            "text/plain": [
              "36    372793\n",
              "60    159635\n",
              "Name: term, dtype: int64"
            ]
          },
          "metadata": {
            "tags": []
          },
          "execution_count": 8
        }
      ]
    },
    {
      "cell_type": "markdown",
      "metadata": {
        "id": "Rt5rrzp1Bs96"
      },
      "source": [
        "###2.2 Employment Length Feature\n",
        "\n",
        "We'll do some preprocessing for the `emp_length` attribute."
      ]
    },
    {
      "cell_type": "code",
      "metadata": {
        "id": "xxI934YZwccO"
      },
      "source": [
        "df['emp_length'].replace('n/a', '0', inplace=True)\n",
        "df['emp_length'].replace(to_replace='\\+ years', value='', regex=True, inplace=True)\n",
        "df['emp_length'].replace(to_replace=' years', value='', regex=True, inplace=True)\n",
        "df['emp_length'].replace(to_replace='< 1 year', value='0', regex=True, inplace=True)\n",
        "df['emp_length'].replace(to_replace=' year', value='', regex=True, inplace=True)\n",
        "\n",
        "# Convert it to numeric\n",
        "df['emp_length'] = pd.to_numeric(df['emp_length'], errors='coerce') "
      ],
      "execution_count": null,
      "outputs": []
    },
    {
      "cell_type": "markdown",
      "metadata": {
        "id": "QXW_JGVrB0BV"
      },
      "source": [
        "Let's have a look at the unique value distribution of the `emp_length` column."
      ]
    },
    {
      "cell_type": "code",
      "metadata": {
        "id": "k8OdrLB3wpwu",
        "outputId": "0ae260ed-d89d-40df-bb19-039be1de3eb2",
        "colab": {
          "base_uri": "https://localhost:8080/"
        }
      },
      "source": [
        "df['emp_length'].value_counts()"
      ],
      "execution_count": null,
      "outputs": [
        {
          "output_type": "execute_result",
          "data": {
            "text/plain": [
              "10.0    175105\n",
              "2.0      47276\n",
              "0.0      42253\n",
              "3.0      42175\n",
              "1.0      34202\n",
              "5.0      33393\n",
              "4.0      31581\n",
              "7.0      26680\n",
              "8.0      26443\n",
              "6.0      25741\n",
              "9.0      20688\n",
              "Name: emp_length, dtype: int64"
            ]
          },
          "metadata": {
            "tags": []
          },
          "execution_count": 10
        }
      ]
    },
    {
      "cell_type": "markdown",
      "metadata": {
        "id": "th8Cmx3uB3O1"
      },
      "source": [
        "###2.3 Sub Grade Feature\n",
        "\n",
        "We'll do some preprocessing for the `sub_grade` attribute."
      ]
    },
    {
      "cell_type": "code",
      "metadata": {
        "id": "nLWnNRBbwtr1"
      },
      "source": [
        "df['sub_grade'].replace(to_replace='A', value='0', regex=True, inplace=True)\n",
        "df['sub_grade'].replace(to_replace='B', value='1', regex=True, inplace=True)\n",
        "df['sub_grade'].replace(to_replace='C', value='2', regex=True, inplace=True)\n",
        "df['sub_grade'].replace(to_replace='D', value='3', regex=True, inplace=True)\n",
        "df['sub_grade'].replace(to_replace='E', value='4', regex=True, inplace=True)\n",
        "df['sub_grade'].replace(to_replace='F', value='5', regex=True, inplace=True)\n",
        "df['sub_grade'].replace(to_replace='G', value='6', regex=True, inplace=True) \n",
        "\n",
        "# Convert it to numeric\n",
        "df['sub_grade'] = pd.to_numeric(df['sub_grade'], errors='coerce') "
      ],
      "execution_count": null,
      "outputs": []
    },
    {
      "cell_type": "markdown",
      "metadata": {
        "id": "Xs_n-TuhB_9k"
      },
      "source": [
        "Let's have a look at the unique value distribution of the `sub_grade` column."
      ]
    },
    {
      "cell_type": "code",
      "metadata": {
        "id": "WqHkd6rkw9AT",
        "outputId": "6e7d5ba0-e971-4656-fc45-2ff661a59081",
        "colab": {
          "base_uri": "https://localhost:8080/"
        }
      },
      "source": [
        "df['sub_grade'].value_counts() "
      ],
      "execution_count": null,
      "outputs": [
        {
          "output_type": "execute_result",
          "data": {
            "text/plain": [
              "13    33844\n",
              "14    33198\n",
              "21    31975\n",
              "22    31356\n",
              "23    30080\n",
              "12    29390\n",
              "15    29313\n",
              "24    29103\n",
              "5     27016\n",
              "11    26968\n",
              "25    24985\n",
              "31    21712\n",
              "4     20823\n",
              "32    17991\n",
              "33    15771\n",
              "34    15226\n",
              "3     14082\n",
              "1     13653\n",
              "2     13533\n",
              "35    12867\n",
              "41    10928\n",
              "42    10255\n",
              "43     8488\n",
              "44     7051\n",
              "45     5773\n",
              "51     4350\n",
              "52     3196\n",
              "53     2708\n",
              "54     2056\n",
              "55     1516\n",
              "61     1112\n",
              "62      824\n",
              "63      559\n",
              "64      391\n",
              "65      335\n",
              "Name: sub_grade, dtype: int64"
            ]
          },
          "metadata": {
            "tags": []
          },
          "execution_count": 12
        }
      ]
    },
    {
      "cell_type": "markdown",
      "metadata": {
        "id": "jzMGbSGdCD6d"
      },
      "source": [
        "###2.4 Last Week Pay Feature\n",
        "\n",
        "We'll do some preprocessing for the `last_week_pay` attribute."
      ]
    },
    {
      "cell_type": "code",
      "metadata": {
        "id": "Kdndsmyhw_e8"
      },
      "source": [
        "df['last_week_pay'].replace(to_replace='th week', value='', regex=True, inplace=True)\n",
        "\n",
        "df['last_week_pay'].replace(to_replace='NA', value='', regex=True, inplace=True)\n",
        "\n",
        "# Convert it to numeric\n",
        "df['last_week_pay'] = pd.to_numeric(df['last_week_pay'], errors='coerce')"
      ],
      "execution_count": null,
      "outputs": []
    },
    {
      "cell_type": "markdown",
      "metadata": {
        "id": "JZ2tdDhmxXIS"
      },
      "source": [
        "###**3. Handling Missing Values**\n",
        "\n",
        "Now, we'll see how many null values does each attribute have."
      ]
    },
    {
      "cell_type": "code",
      "metadata": {
        "id": "ZxOAGsiqxSdN",
        "outputId": "68dd792e-8e3b-46d7-c428-3fc0c857689c",
        "colab": {
          "base_uri": "https://localhost:8080/"
        }
      },
      "source": [
        "df.isnull().sum() "
      ],
      "execution_count": null,
      "outputs": [
        {
          "output_type": "execute_result",
          "data": {
            "text/plain": [
              "member_id                           0\n",
              "loan_amnt                           0\n",
              "funded_amnt                         0\n",
              "funded_amnt_inv                     0\n",
              "term                                0\n",
              "batch_enrolled                  85149\n",
              "int_rate                            0\n",
              "grade                               0\n",
              "sub_grade                           0\n",
              "emp_title                       30833\n",
              "emp_length                      26891\n",
              "home_ownership                      0\n",
              "annual_inc                          3\n",
              "verification_status                 0\n",
              "pymnt_plan                          0\n",
              "desc                           456829\n",
              "purpose                             0\n",
              "title                              90\n",
              "zip_code                            0\n",
              "addr_state                          0\n",
              "dti                                 0\n",
              "delinq_2yrs                        16\n",
              "inq_last_6mths                     16\n",
              "mths_since_last_delinq         272554\n",
              "mths_since_last_record         450305\n",
              "open_acc                           16\n",
              "pub_rec                            16\n",
              "revol_bal                           0\n",
              "revol_util                        287\n",
              "total_acc                          16\n",
              "initial_list_status                 0\n",
              "total_rec_int                       0\n",
              "total_rec_late_fee                  0\n",
              "recoveries                          0\n",
              "collection_recovery_fee             0\n",
              "collections_12_mths_ex_med         95\n",
              "mths_since_last_major_derog    399448\n",
              "application_type                    0\n",
              "verification_status_joint      532123\n",
              "last_week_pay                   10614\n",
              "acc_now_delinq                     16\n",
              "tot_coll_amt                    42004\n",
              "tot_cur_bal                     42004\n",
              "total_rev_hi_lim                42004\n",
              "loan_status                         0\n",
              "dtype: int64"
            ]
          },
          "metadata": {
            "tags": []
          },
          "execution_count": 14
        }
      ]
    },
    {
      "cell_type": "code",
      "metadata": {
        "id": "tRQhv50rxZch"
      },
      "source": [
        "columns = ['term', 'loan_amnt', 'funded_amnt', 'last_week_pay', 'int_rate', 'sub_grade',\n",
        "           'annual_inc', 'dti', 'mths_since_last_delinq', 'mths_since_last_record', 'open_acc',\n",
        "           'revol_bal', 'revol_util', 'total_acc', 'total_rec_int', 'mths_since_last_major_derog', \n",
        "           'tot_coll_amt', 'tot_cur_bal', 'total_rev_hi_lim', 'emp_length']\n",
        "for col in columns:\n",
        "    df[col].fillna(df[col].median(), inplace=True)  # Filling NaN values with median of each column present in columns.\n",
        "\n",
        "  \n",
        "num_cols = ['acc_now_delinq', 'total_rec_late_fee', 'recoveries', 'collection_recovery_fee', 'collections_12_mths_ex_med']\n",
        "for col in num_cols:\n",
        "    df[col].fillna(0, inplace=True)        ## Filling NaN values with 0 for each column present in columns."
      ],
      "execution_count": null,
      "outputs": []
    },
    {
      "cell_type": "code",
      "metadata": {
        "id": "2jM4QmuaxZaB"
      },
      "source": [
        "# Converts categorical variable into dummy/indicator variables.\n",
        "cate_attr = ['home_ownership', 'purpose']\n",
        "for cat in cate_attr:\n",
        "   df_col = [cat]\n",
        "   df[cat] = df[cat].astype(\"category\")\n",
        "   df[cat] = pd.get_dummies(df, columns=df_col) "
      ],
      "execution_count": null,
      "outputs": []
    },
    {
      "cell_type": "markdown",
      "metadata": {
        "id": "jY1dX1OEx4UT"
      },
      "source": [
        "###**4. Feature Engineering**"
      ]
    },
    {
      "cell_type": "markdown",
      "metadata": {
        "id": "rIKKIAQxD-7K"
      },
      "source": [
        "For convenience, I'll copy the original Dataframe to another variable and drop the target feature. "
      ]
    },
    {
      "cell_type": "code",
      "metadata": {
        "id": "MD0TaneBx3b7"
      },
      "source": [
        "final_df = df.copy()\n",
        "final_df = final_df.drop(['loan_status'], axis=1)  "
      ],
      "execution_count": null,
      "outputs": []
    },
    {
      "cell_type": "markdown",
      "metadata": {
        "id": "okcEEKhLEPvd"
      },
      "source": [
        "Now, we'll create some new features which can help us in predicting the target (Defaulter or Non-Defaulter)."
      ]
    },
    {
      "cell_type": "code",
      "metadata": {
        "id": "-1PeSYToyFF_"
      },
      "source": [
        "import math\n",
        "import numpy as np\n",
        "\n",
        "# How big the loan a person has taken with respect to his earnings, annual income to fund by bank ratio\n",
        "final_df['income_to_loan'] = np.round_(final_df['annual_inc']/final_df['funded_amnt'], decimals = 2)\n",
        "\n",
        "# How big the loan a person has taken with respect to his earnings, annual income to fund by investors ratio\n",
        "final_df['income_to_loan_inv'] = np.round_(final_df['annual_inc']/final_df['funded_amnt_inv'], decimals = 2)\n",
        "\n",
        "\n",
        "# Interest paid so far = interest received till date + Late fee received till date\n",
        "final_df['total_int_paid'] = final_df['total_rec_int'] + final_df['total_rec_late_fee']\n",
        "\n",
        "# Calculating EMIs (monthly)\n",
        "#EMI = [P x R x (1+R)^N] / [(1+R)^N-1]\n",
        "principal = final_df['loan_amnt']\n",
        "rate = final_df['int_rate'] /(100*12)\n",
        "time = final_df['term']\n",
        "\n",
        "final_df['emi_per_month'] = np.round_((principal * rate * (1+rate)**time)/((1+rate)**(time)-1), decimals = 2)\n",
        "\n",
        "# Calculating EMIs paid (in terms of percent) np.round_(in_array, decimals = 2)\n",
        "final_df['emi_paid_perc'] = np.round_(((final_df['last_week_pay'])/(final_df['term']/12*52+1))*100, decimals = 2)"
      ],
      "execution_count": null,
      "outputs": []
    },
    {
      "cell_type": "markdown",
      "metadata": {
        "id": "defqO7jNEeuz"
      },
      "source": [
        "We engineered 5 new columns which can provide us with accurate information to predict our labels."
      ]
    },
    {
      "cell_type": "code",
      "metadata": {
        "id": "VCFNGwjdy7MN",
        "outputId": "33b70272-ed00-4f51-d39f-e0163ea950e9",
        "colab": {
          "base_uri": "https://localhost:8080/"
        }
      },
      "source": [
        "final_df.shape"
      ],
      "execution_count": null,
      "outputs": [
        {
          "output_type": "execute_result",
          "data": {
            "text/plain": [
              "(532428, 49)"
            ]
          },
          "metadata": {
            "tags": []
          },
          "execution_count": 19
        }
      ]
    },
    {
      "cell_type": "markdown",
      "metadata": {
        "id": "KCVdJ078Euey"
      },
      "source": [
        "###**5. Attribute Vectorization**\n",
        "\n",
        "We'll use TDIDF and NLTK to vectorize some of our categorical columns. TFIDF will create feature matrices for each attribute we pass, hence increasing the dimensions. For this tutorial we wont vectorize 'emp_title', 'desc' and 'title' as it increase the data complexity hugely. Also, colab provides us with only 12gb RAM, I tried vectorizing 'desc' and it would crash the notebook. \n",
        "\n",
        "We'll download NLTK stopwords for English Language."
      ]
    },
    {
      "cell_type": "code",
      "metadata": {
        "id": "9m22z8qzzB-Q",
        "outputId": "f7d8bc37-8b74-4e5e-9511-73edc7d281c1",
        "colab": {
          "base_uri": "https://localhost:8080/"
        }
      },
      "source": [
        "import nltk\n",
        "nltk.download('stopwords')\n",
        "\n",
        "from nltk.corpus import stopwords\n",
        "stop_words = stopwords.words('english') "
      ],
      "execution_count": null,
      "outputs": [
        {
          "output_type": "stream",
          "text": [
            "[nltk_data] Downloading package stopwords to /root/nltk_data...\n",
            "[nltk_data]   Package stopwords is already up-to-date!\n"
          ],
          "name": "stdout"
        }
      ]
    },
    {
      "cell_type": "markdown",
      "metadata": {
        "id": "BJ_YfATbFziu"
      },
      "source": [
        "We'll fill remaining columns with a string called 'missing'."
      ]
    },
    {
      "cell_type": "code",
      "metadata": {
        "id": "b4I1avAxz_A3"
      },
      "source": [
        "cols = ['grade', 'emp_title', 'verification_status_joint', 'verification_status',\n",
        "        'pymnt_plan', 'desc', 'purpose', 'title', 'zip_code', 'addr_state', 'initial_list_status', 'application_type']\n",
        "\n",
        "for col in cols:\n",
        "    final_df[col].fillna('missing', inplace=True)"
      ],
      "execution_count": null,
      "outputs": []
    },
    {
      "cell_type": "markdown",
      "metadata": {
        "id": "FCxhomGNF-W0"
      },
      "source": [
        "Finally, if we have any left out columns, we'll fill them with 0."
      ]
    },
    {
      "cell_type": "code",
      "metadata": {
        "id": "rjQ4ibjHz--W"
      },
      "source": [
        "final_df.fillna(0)  \n",
        "final_df.reset_index(inplace=True)  # Resets the indices."
      ],
      "execution_count": null,
      "outputs": []
    },
    {
      "cell_type": "markdown",
      "metadata": {
        "id": "kFUD1FV3zfmw"
      },
      "source": [
        "###5.1 Vectorising Grade Feature"
      ]
    },
    {
      "cell_type": "code",
      "metadata": {
        "id": "cXnsRfzw0ye8",
        "outputId": "bdac241a-86ec-479a-ae1f-76ef67555101",
        "colab": {
          "base_uri": "https://localhost:8080/"
        }
      },
      "source": [
        "from sklearn.feature_extraction.text import TfidfVectorizer\n",
        "\n",
        "v = TfidfVectorizer(min_df=3,  max_features=None, \n",
        "                    strip_accents='unicode', analyzer='word',token_pattern=r'\\w{1,}', \n",
        "                    ngram_range=(1, 3), use_idf=1,smooth_idf=1,sublinear_tf=1,\n",
        "                    stop_words = 'english')\n",
        "\n",
        "x_tfidf = v.fit_transform(final_df['grade'])   # Create a feature matrix using TFIDF.\n",
        "\n",
        "print(x_tfidf.shape)    # No.of columns represents the number of features made by TFIDF.\n",
        "\n",
        "# Convert the feature matrix to an array and store it a pandas dataframe.\n",
        "df_tfidf = pd.DataFrame(x_tfidf.toarray(), columns=v.get_feature_names())\n",
        "\n",
        "# Concatenate the array dataframe and our final dataframe.\n",
        "res_train = pd.concat([final_df, df_tfidf], axis=1)\n",
        "\n",
        "# Finally, we drop the 'grade' feature as we have a more dimensional feature matrix.\n",
        "res_train.drop('grade',axis=1,inplace=True)\n",
        "\n",
        "print(res_train.shape)"
      ],
      "execution_count": null,
      "outputs": [
        {
          "output_type": "stream",
          "text": [
            "(532428, 6)\n",
            "(532428, 55)\n"
          ],
          "name": "stdout"
        }
      ]
    },
    {
      "cell_type": "markdown",
      "metadata": {
        "id": "b6sJLlAP31cS"
      },
      "source": [
        "###5.2 Vectorising Verification Status Feature"
      ]
    },
    {
      "cell_type": "code",
      "metadata": {
        "id": "15Z5IPiF_Nvw",
        "outputId": "a5cb3f90-a538-4803-9af4-bd0758708eba",
        "colab": {
          "base_uri": "https://localhost:8080/"
        }
      },
      "source": [
        "from sklearn.feature_extraction.text import TfidfVectorizer\n",
        "\n",
        "v = TfidfVectorizer(min_df=3,  max_features=None, \n",
        "                    strip_accents='unicode', analyzer='word',token_pattern=r'\\w{1,}', \n",
        "                    ngram_range=(1, 3), use_idf=1,smooth_idf=1,sublinear_tf=1,\n",
        "                    stop_words = 'english')\n",
        "\n",
        "# Create a feature matrix using TFIDF\n",
        "x_tfidf = v.fit_transform(res_train['verification_status'])  # We'll use the previous concatenated dataframe here  \n",
        "\n",
        "print(x_tfidf.shape)    # No.of columns represents the number of features made by TFIDF.\n",
        "\n",
        "# Convert the feature matrix to an array and store it a pandas dataframe.\n",
        "df_tfidf = pd.DataFrame(x_tfidf.toarray(), columns=v.get_feature_names() )\n",
        "\n",
        "# Concatenate the array dataframe and our final dataframe.\n",
        "res_train = pd.concat([res_train, df_tfidf], axis=1)\n",
        "\n",
        "# Finally, we drop the 'verification_status' feature as we have a more dimensional feature matrix.\n",
        "res_train.drop('verification_status',axis=1,inplace=True)\n",
        "\n",
        "print(res_train.shape)"
      ],
      "execution_count": null,
      "outputs": [
        {
          "output_type": "stream",
          "text": [
            "(532428, 3)\n",
            "(532428, 57)\n"
          ],
          "name": "stdout"
        }
      ]
    },
    {
      "cell_type": "markdown",
      "metadata": {
        "id": "GbDIfVV-K8TD"
      },
      "source": [
        "###5.3 Vectorising Verification Status Joint Feature"
      ]
    },
    {
      "cell_type": "code",
      "metadata": {
        "id": "Yzy26WNKA4Qi",
        "outputId": "ab8a65d0-fa1e-4829-996f-4d720f8f7ffe",
        "colab": {
          "base_uri": "https://localhost:8080/"
        }
      },
      "source": [
        "from sklearn.feature_extraction.text import TfidfVectorizer\n",
        "\n",
        "v = TfidfVectorizer(min_df=3,  max_features=None, \n",
        "                    strip_accents='unicode', analyzer='word',token_pattern=r'\\w{1,}', \n",
        "                    ngram_range=(1, 3), use_idf=1,smooth_idf=1,sublinear_tf=1,\n",
        "                    stop_words = 'english')\n",
        "\n",
        "# Create a feature matrix using TFIDF\n",
        "x_tfidf = v.fit_transform(res_train['verification_status_joint'])  # We'll use the previous concatenated dataframe here  \n",
        "\n",
        "print(x_tfidf.shape)    # No.of columns represents the number of features made by TFIDF.\n",
        "\n",
        "# Convert the feature matrix to an array and store it a pandas dataframe.\n",
        "df_tfidf = pd.DataFrame(x_tfidf.toarray(), columns=v.get_feature_names() )\n",
        "\n",
        "# Concatenate the array dataframe and our final dataframe.\n",
        "res_train = pd.concat([res_train, df_tfidf], axis=1)\n",
        "\n",
        "# Finally, we drop the 'verification_status_joint' feature as we have a more dimensional feature matrix.\n",
        "res_train.drop('verification_status_joint',axis=1,inplace=True)\n",
        "\n",
        "print(res_train.shape)"
      ],
      "execution_count": null,
      "outputs": [
        {
          "output_type": "stream",
          "text": [
            "(532428, 4)\n",
            "(532428, 60)\n"
          ],
          "name": "stdout"
        }
      ]
    },
    {
      "cell_type": "markdown",
      "metadata": {
        "id": "ogRfAl-kReel"
      },
      "source": [
        "###5.4 Vectorising Payment Plan Feature"
      ]
    },
    {
      "cell_type": "code",
      "metadata": {
        "id": "Af-uecdvLQf1",
        "outputId": "fdbdcc64-c3f2-426d-8ce2-03ab0dab1176",
        "colab": {
          "base_uri": "https://localhost:8080/"
        }
      },
      "source": [
        "from sklearn.feature_extraction.text import TfidfVectorizer\n",
        "\n",
        "v = TfidfVectorizer(min_df=3,  max_features=None, \n",
        "                    strip_accents='unicode', analyzer='word',token_pattern=r'\\w{1,}', \n",
        "                    ngram_range=(1, 3), use_idf=1,smooth_idf=1,sublinear_tf=1,\n",
        "                    stop_words = 'english')\n",
        "\n",
        "# Create a feature matrix using TFIDF\n",
        "x_tfidf = v.fit_transform(res_train['pymnt_plan'])  # We'll use the previous concatenated dataframe here  \n",
        "\n",
        "print(x_tfidf.shape)    # No.of columns represents the number of features made by TFIDF.\n",
        "\n",
        "# Convert the feature matrix to an array and store it a pandas dataframe.\n",
        "df_tfidf = pd.DataFrame(x_tfidf.toarray(), columns=v.get_feature_names() )\n",
        "\n",
        "# Concatenate the array dataframe and our final dataframe.\n",
        "res_train = pd.concat([res_train, df_tfidf], axis=1)\n",
        "\n",
        "# Finally, we drop the 'pymnt_plan' feature as we have a more dimensional feature matrix.\n",
        "res_train.drop('pymnt_plan',axis=1,inplace=True)\n",
        "\n",
        "print(res_train.shape)"
      ],
      "execution_count": null,
      "outputs": [
        {
          "output_type": "stream",
          "text": [
            "(532428, 2)\n",
            "(532428, 61)\n"
          ],
          "name": "stdout"
        }
      ]
    },
    {
      "cell_type": "markdown",
      "metadata": {
        "id": "ZxT1zk8HRq45"
      },
      "source": [
        "###5.5 Vectorising Address State Feature"
      ]
    },
    {
      "cell_type": "code",
      "metadata": {
        "id": "t9QsCKqlYowF",
        "outputId": "ef7397ae-560f-4b8a-9303-6b5620bc6026",
        "colab": {
          "base_uri": "https://localhost:8080/"
        }
      },
      "source": [
        "from sklearn.feature_extraction.text import TfidfVectorizer\n",
        "\n",
        "v = TfidfVectorizer(min_df=3,  max_features=None, \n",
        "                    strip_accents='unicode', analyzer='word',token_pattern=r'\\w{1,}', \n",
        "                    ngram_range=(1, 3), use_idf=1,smooth_idf=1,sublinear_tf=1,\n",
        "                    stop_words = 'english')\n",
        "\n",
        "# Create a feature matrix using TFIDF\n",
        "x_tfidf = v.fit_transform(res_train['addr_state'])  # We'll use the previous concatenated dataframe here  \n",
        "\n",
        "print(x_tfidf.shape)    # No.of columns represents the number of features made by TFIDF.\n",
        "\n",
        "# Convert the feature matrix to an array and store it a pandas dataframe.\n",
        "df_tfidf = pd.DataFrame(x_tfidf.toarray(), columns=v.get_feature_names() )\n",
        "\n",
        "# Concatenate the array dataframe and our final dataframe.\n",
        "res_train = pd.concat([res_train, df_tfidf], axis=1)\n",
        "\n",
        "# Finally, we drop the 'addr_state' feature as we have a more dimensional feature matrix.\n",
        "res_train.drop('addr_state',axis=1,inplace=True)\n",
        "\n",
        "print(res_train.shape)"
      ],
      "execution_count": null,
      "outputs": [
        {
          "output_type": "stream",
          "text": [
            "(532428, 46)\n",
            "(532428, 106)\n"
          ],
          "name": "stdout"
        }
      ]
    },
    {
      "cell_type": "markdown",
      "metadata": {
        "id": "Zzwv804MRuPp"
      },
      "source": [
        "###5.6 Vectorising Initial List Status Feature"
      ]
    },
    {
      "cell_type": "code",
      "metadata": {
        "id": "9Yd8nzhFZ5zZ",
        "outputId": "3322bcb0-1fe9-42d1-ecb9-52d4de433e59",
        "colab": {
          "base_uri": "https://localhost:8080/"
        }
      },
      "source": [
        "from sklearn.feature_extraction.text import TfidfVectorizer\n",
        "\n",
        "v = TfidfVectorizer(min_df=3,  max_features=None, \n",
        "                    strip_accents='unicode', analyzer='word',token_pattern=r'\\w{1,}', \n",
        "                    ngram_range=(1, 3), use_idf=1,smooth_idf=1,sublinear_tf=1,\n",
        "                    stop_words = 'english')\n",
        "\n",
        "# Create a feature matrix using TFIDF\n",
        "x_tfidf = v.fit_transform(res_train['initial_list_status'])  # We'll use the previous concatenated dataframe here  \n",
        "\n",
        "print(x_tfidf.shape)    # No.of columns represents the number of features made by TFIDF.\n",
        "\n",
        "# Convert the feature matrix to an array and store it a pandas dataframe.\n",
        "df_tfidf = pd.DataFrame(x_tfidf.toarray(), columns=v.get_feature_names() )\n",
        "\n",
        "# Concatenate the array dataframe and our final dataframe.\n",
        "res_train = pd.concat([res_train, df_tfidf], axis=1)\n",
        "\n",
        "# Finally, we drop the 'initial_list_status' feature as we have a more dimensional feature matrix.\n",
        "res_train.drop('initial_list_status',axis=1,inplace=True) \n",
        "\n",
        "print(res_train.shape)"
      ],
      "execution_count": null,
      "outputs": [
        {
          "output_type": "stream",
          "text": [
            "(532428, 2)\n",
            "(532428, 107)\n"
          ],
          "name": "stdout"
        }
      ]
    },
    {
      "cell_type": "markdown",
      "metadata": {
        "id": "O08qlZomRyNz"
      },
      "source": [
        "###5.7 Vectorising Application Type Feature"
      ]
    },
    {
      "cell_type": "code",
      "metadata": {
        "id": "rxOAyQhkatez",
        "outputId": "b94e33be-51fd-4a51-b9bf-991fe015ca56",
        "colab": {
          "base_uri": "https://localhost:8080/"
        }
      },
      "source": [
        "from sklearn.feature_extraction.text import TfidfVectorizer\n",
        "\n",
        "v = TfidfVectorizer(min_df=3,  max_features=None, \n",
        "                    strip_accents='unicode', analyzer='word',token_pattern=r'\\w{1,}', \n",
        "                    ngram_range=(1, 3), use_idf=1,smooth_idf=1,sublinear_tf=1,\n",
        "                    stop_words = 'english')\n",
        "\n",
        "# Create a feature matrix using TFIDF\n",
        "x_tfidf = v.fit_transform(res_train['application_type'])  # We'll use the previous concatenated dataframe here  \n",
        "\n",
        "print(x_tfidf.shape)    # No.of columns represents the number of features made by TFIDF.\n",
        "\n",
        "# Convert the feature matrix to an array and store it a pandas dataframe.\n",
        "df_tfidf = pd.DataFrame(x_tfidf.toarray(), columns=v.get_feature_names() )\n",
        "\n",
        "# Concatenate the array dataframe and our final dataframe.\n",
        "res_train = pd.concat([res_train, df_tfidf], axis=1)\n",
        "\n",
        "# Finally, we drop the 'application_type' feature as we have a more dimensional feature matrix.\n",
        "res_train.drop('application_type',axis=1,inplace=True) \n",
        "\n",
        "print(res_train.shape)"
      ],
      "execution_count": null,
      "outputs": [
        {
          "output_type": "stream",
          "text": [
            "(532428, 2)\n",
            "(532428, 108)\n"
          ],
          "name": "stdout"
        }
      ]
    },
    {
      "cell_type": "markdown",
      "metadata": {
        "id": "RYY2qesATC_4"
      },
      "source": [
        "Finally, we'll drop all the unwanted columns which provide us with no information about the target and they also increase data complexity with size."
      ]
    },
    {
      "cell_type": "code",
      "metadata": {
        "id": "RdBARAIZay8i"
      },
      "source": [
        "res_train.drop(['desc', 'zip_code', 'emp_title', 'title', 'batch_enrolled'], axis=1, inplace=True)"
      ],
      "execution_count": null,
      "outputs": []
    },
    {
      "cell_type": "markdown",
      "metadata": {
        "id": "iU_rJ_-iWfxs"
      },
      "source": [
        "What's the dimensions of the dataframe now?"
      ]
    },
    {
      "cell_type": "code",
      "metadata": {
        "id": "Utzhz6PjWi8P",
        "outputId": "747f32e6-ec8d-483d-8040-b21e8ea1c7e5",
        "colab": {
          "base_uri": "https://localhost:8080/"
        }
      },
      "source": [
        "res_train.shape"
      ],
      "execution_count": null,
      "outputs": [
        {
          "output_type": "execute_result",
          "data": {
            "text/plain": [
              "(532428, 103)"
            ]
          },
          "metadata": {
            "tags": []
          },
          "execution_count": 31
        }
      ]
    },
    {
      "cell_type": "markdown",
      "metadata": {
        "id": "wXyelzkEWkmV"
      },
      "source": [
        "As you see we increased to dimensions to 103 using TFIDF, you can try using Bag of Words also, but I prefer TFIDF.\n",
        "\n",
        "Finally, we'll scale our dataframe values."
      ]
    },
    {
      "cell_type": "code",
      "metadata": {
        "id": "OdroUdp_d9hY"
      },
      "source": [
        "def scaler():\n",
        "    result = res_train.copy()\n",
        "    for feature_name in res_train.columns:\n",
        "        max_value = res_train[feature_name].max()\n",
        "        min_value = res_train[feature_name].min()\n",
        "        result[feature_name] = (res_train[feature_name] - min_value) / (max_value - min_value)\n",
        "    return result "
      ],
      "execution_count": null,
      "outputs": []
    },
    {
      "cell_type": "markdown",
      "metadata": {
        "id": "O9N21gVxW5Zs"
      },
      "source": [
        "We'll store the scaled dataframe in a new variable for better understanding."
      ]
    },
    {
      "cell_type": "code",
      "metadata": {
        "id": "UWQrMRrkftqH"
      },
      "source": [
        "res_train_scaled = scaler() "
      ],
      "execution_count": null,
      "outputs": []
    },
    {
      "cell_type": "markdown",
      "metadata": {
        "id": "50B4gOM9XCOE"
      },
      "source": [
        "###**6. Train-Test Split**\n",
        "\n",
        "We'll spit our data in training and cross-validation sets. "
      ]
    },
    {
      "cell_type": "code",
      "metadata": {
        "id": "4TC0ft9UW_mT"
      },
      "source": [
        "from sklearn.model_selection import train_test_split\n",
        "\n",
        "X_train, X_test, y_train, y_test = train_test_split(np.array(res_train_scaled), np.array(train_target), test_size=0.30) "
      ],
      "execution_count": null,
      "outputs": []
    },
    {
      "cell_type": "code",
      "metadata": {
        "id": "bGB11HXFW_h0",
        "outputId": "b5f1c46e-322f-422d-ea09-5b49f441ca99",
        "colab": {
          "base_uri": "https://localhost:8080/"
        }
      },
      "source": [
        "X_train.shape, y_train.shape, X_test.shape, y_test.shape "
      ],
      "execution_count": null,
      "outputs": [
        {
          "output_type": "execute_result",
          "data": {
            "text/plain": [
              "((372699, 103), (372699, 1), (159729, 103), (159729, 1))"
            ]
          },
          "metadata": {
            "tags": []
          },
          "execution_count": 35
        }
      ]
    },
    {
      "cell_type": "markdown",
      "metadata": {
        "id": "lrExR4tVgSub"
      },
      "source": [
        "We'll import a few necessary model evaluation metrics."
      ]
    },
    {
      "cell_type": "code",
      "metadata": {
        "id": "SKBsHmFpYJsA"
      },
      "source": [
        "import matplotlib.pyplot as plt\n",
        "import sklearn.metrics as metrics\n",
        "from sklearn.metrics import confusion_matrix, classification_report, accuracy_score\n",
        "from sklearn.metrics import roc_curve, auc \n",
        "from sklearn.metrics import roc_auc_score"
      ],
      "execution_count": null,
      "outputs": []
    },
    {
      "cell_type": "markdown",
      "metadata": {
        "id": "MFhOfFwNgcKw"
      },
      "source": [
        "###**7. Cat Boost Classifier**"
      ]
    },
    {
      "cell_type": "code",
      "metadata": {
        "id": "4c1w3sPjYRFx",
        "outputId": "a867cc75-f1f6-4a28-f60d-ef0ca02829b0",
        "colab": {
          "base_uri": "https://localhost:8080/"
        }
      },
      "source": [
        "#CATBoost\n",
        "from catboost import CatBoostClassifier\n",
        "cat_clf = CatBoostClassifier(learning_rate=0.1, n_estimators=1400, subsample=0.70, max_depth=6, scale_pos_weight=2.5, silent=True)\n",
        "cat_clf.fit(X_train, y_train)\n",
        "\n",
        "# evaluate predictions\n",
        "y_train_predict_cat = cat_clf.predict(X_train)\n",
        "print(\"==========================\")\n",
        "print('Train Accuracy: %.3f' % metrics.accuracy_score(y_train, y_train_predict_cat))\n",
        "\n",
        "# make predictions for test data\n",
        "y_pred_cat = cat_clf.predict(X_test)\n",
        "predictions = [round(value) for value in y_pred_cat]\n",
        "\n",
        "\n",
        "accuracy_per_roc_auc = roc_auc_score(y_test, predictions)\n",
        "print(\"ROC-AUC: %.10f%%\" % (accuracy_per_roc_auc * 100))\n",
        "\n",
        "print('Test Accuracy: %.3f' % metrics.accuracy_score(y_test, predictions))\n",
        "print(\"==========================\")\n",
        "print(metrics.confusion_matrix(y_test, predictions))\n",
        "print(\"==========================\")\n",
        "print(metrics.classification_report(y_test, predictions))\n",
        "print(\"==========================\")\n",
        "print('Precision Score: %.3f' % metrics.precision_score(y_test, predictions))\n",
        "print('Recall Score: %.3f' % metrics.recall_score(y_test, predictions))\n",
        "print('F1 Score: %.3f' % metrics.f1_score(y_test, predictions)) "
      ],
      "execution_count": null,
      "outputs": [
        {
          "output_type": "stream",
          "text": [
            "==========================\n",
            "Train Accuracy: 0.944\n",
            "ROC-AUC: 93.3794433030%\n",
            "Test Accuracy: 0.939\n",
            "==========================\n",
            "[[114852   6974]\n",
            " [  2849  35054]]\n",
            "==========================\n",
            "              precision    recall  f1-score   support\n",
            "\n",
            "           0       0.98      0.94      0.96    121826\n",
            "           1       0.83      0.92      0.88     37903\n",
            "\n",
            "    accuracy                           0.94    159729\n",
            "   macro avg       0.90      0.93      0.92    159729\n",
            "weighted avg       0.94      0.94      0.94    159729\n",
            "\n",
            "==========================\n",
            "Precision Score: 0.834\n",
            "Recall Score: 0.925\n",
            "F1 Score: 0.877\n"
          ],
          "name": "stdout"
        }
      ]
    },
    {
      "cell_type": "code",
      "metadata": {
        "id": "VtMs2U5jYXBt",
        "outputId": "8b665a59-20e1-445e-f01c-09f31d2b5e81",
        "colab": {
          "base_uri": "https://localhost:8080/",
          "height": 295
        }
      },
      "source": [
        "y_train_pred = cat_clf.predict(X_train)    \n",
        "y_test_pred = cat_clf.predict(X_test)\n",
        "\n",
        "\n",
        "train_fpr, train_tpr, train_thresholds = roc_curve(y_train, y_train_pred)\n",
        "test_fpr, test_tpr, test_thresholds = roc_curve(y_test, y_test_pred)\n",
        "\n",
        "plt.plot(train_fpr, train_tpr, label=\"Train AUC =\"+str(auc(train_fpr, train_tpr)))\n",
        "plt.plot(test_fpr, test_tpr, label=\"Test AUC =\"+str(auc(test_fpr, test_tpr)))\n",
        "plt.legend()\n",
        "plt.xlabel(\"True Positive Rate(TPR)\", fontweight='bold')\n",
        "plt.ylabel(\"False Positive Rate(FPR)\", fontweight='bold')\n",
        "plt.title(\"ROC-AUC\", fontweight='bold')\n",
        "plt.grid()\n",
        "plt.show() "
      ],
      "execution_count": null,
      "outputs": [
        {
          "output_type": "display_data",
          "data": {
            "image/png": "[encoded data removed]",
            "text/plain": [
              "<Figure size 432x288 with 1 Axes>"
            ]
          },
          "metadata": {
            "tags": [],
            "needs_background": "light"
          }
        }
      ]
    },
    {
      "cell_type": "markdown",
      "metadata": {
        "id": "DJ9RALCbrwqM"
      },
      "source": [
        "###**8. XGBoost Classifier**"
      ]
    },
    {
      "cell_type": "code",
      "metadata": {
        "id": "gHIZMR42dNrO",
        "outputId": "e0fc12fb-6c68-4bc3-952f-aaa23d887a4b",
        "colab": {
          "base_uri": "https://localhost:8080/"
        }
      },
      "source": [
        "#XGBOOST\n",
        "from xgboost import XGBClassifier\n",
        "\n",
        "xg = XGBClassifier(scale_pos_weight=2.5 ,silent=True)\n",
        "    \n",
        "xg.fit(X_train, y_train)\n",
        "\n",
        "\n",
        "# evaluate predictions\n",
        "y_train_predict_xg = xg.predict(X_train)\n",
        "print(\"==========================\")\n",
        "print('Train Accuracy %.3f' % metrics.accuracy_score(y_train, y_train_predict_xg))\n",
        "\n",
        "# make predictions for test data\n",
        "y_pred_xg = xg.predict(X_test)\n",
        "predictions = [round(value) for value in y_pred_xg]\n",
        "\n",
        "accuracy_per_roc_auc = roc_auc_score(y_test, predictions)\n",
        "print(\"ROC-AUC: %.10f%%\" % (accuracy_per_roc_auc * 100))\n",
        "\n",
        "\n",
        "print('Test Accuracy %.3f' % metrics.accuracy_score(y_test, predictions))\n",
        "print(\"==========================\")\n",
        "print(metrics.confusion_matrix(y_test, predictions))\n",
        "print(\"==========================\")\n",
        "print(metrics.classification_report(y_test, predictions))\n",
        "print(\"==========================\")\n",
        "print('Precision Score %.3f' % metrics.precision_score(y_test, predictions))\n",
        "print('Recall Score %.3f' % metrics.recall_score(y_test, predictions))\n",
        "print('F1 Score %.3f' % metrics.f1_score(y_test, predictions)) "
      ],
      "execution_count": null,
      "outputs": [
        {
          "output_type": "stream",
          "text": [
            "/usr/local/lib/python3.6/dist-packages/sklearn/preprocessing/_label.py:235: DataConversionWarning: A column-vector y was passed when a 1d array was expected. Please change the shape of y to (n_samples, ), for example using ravel().\n",
            "  y = column_or_1d(y, warn=True)\n",
            "/usr/local/lib/python3.6/dist-packages/sklearn/preprocessing/_label.py:268: DataConversionWarning: A column-vector y was passed when a 1d array was expected. Please change the shape of y to (n_samples, ), for example using ravel().\n",
            "  y = column_or_1d(y, warn=True)\n"
          ],
          "name": "stderr"
        },
        {
          "output_type": "stream",
          "text": [
            "==========================\n",
            "Train Accuracy 0.928\n",
            "ROC-AUC: 89.9874984442%\n",
            "Test Accuracy 0.927\n",
            "==========================\n",
            "[[115886   5940]\n",
            " [  5742  32161]]\n",
            "==========================\n",
            "              precision    recall  f1-score   support\n",
            "\n",
            "           0       0.95      0.95      0.95    121826\n",
            "           1       0.84      0.85      0.85     37903\n",
            "\n",
            "    accuracy                           0.93    159729\n",
            "   macro avg       0.90      0.90      0.90    159729\n",
            "weighted avg       0.93      0.93      0.93    159729\n",
            "\n",
            "==========================\n",
            "Precision Score 0.844\n",
            "Recall Score 0.849\n",
            "F1 Score 0.846\n"
          ],
          "name": "stdout"
        }
      ]
    },
    {
      "cell_type": "code",
      "metadata": {
        "id": "INXh7p0VdtNm",
        "outputId": "f7754adb-a303-4d5e-b158-e0f8c72a388f",
        "colab": {
          "base_uri": "https://localhost:8080/",
          "height": 295
        }
      },
      "source": [
        "y_train_pred = xg.predict(X_train)    \n",
        "y_test_pred = xg.predict(X_test)\n",
        "\n",
        "\n",
        "train_fpr, train_tpr, tr_thresholds = roc_curve(y_train, y_train_pred)\n",
        "test_fpr, test_tpr, te_thresholds = roc_curve(y_test, y_test_pred)\n",
        "\n",
        "plt.plot(train_fpr, train_tpr, label=\"Train AUC =\"+str(auc(train_fpr, train_tpr)))\n",
        "plt.plot(test_fpr, test_tpr, label=\"Test AUC =\"+str(auc(test_fpr, test_tpr)))\n",
        "plt.legend()\n",
        "plt.xlabel(\"True Positive Rate(TPR)\", fontweight='bold')\n",
        "plt.ylabel(\"False Positive Rate(FPR)\", fontweight='bold')\n",
        "plt.title(\"ROC-AUC\", fontweight='bold')\n",
        "plt.grid()\n",
        "plt.show() "
      ],
      "execution_count": null,
      "outputs": [
        {
          "output_type": "display_data",
          "data": {
            "image/png": "[encoded data removed]",
            "text/plain": [
              "<Figure size 432x288 with 1 Axes>"
            ]
          },
          "metadata": {
            "tags": [],
            "needs_background": "light"
          }
        }
      ]
    },
    {
      "cell_type": "markdown",
      "metadata": {
        "id": "B80Bkd4Er1eo"
      },
      "source": [
        "###**9. Light Gradient Boosting Machine**"
      ]
    },
    {
      "cell_type": "code",
      "metadata": {
        "id": "tuM9BazodyuE",
        "outputId": "07f06b03-c28e-4041-d6d2-98d7846004cb",
        "colab": {
          "base_uri": "https://localhost:8080/"
        }
      },
      "source": [
        "#LGBM\n",
        "from lightgbm import LGBMClassifier\n",
        "\n",
        "lgbm = LGBMClassifier(objective =\"binary\",verbosity = -1, learning_rate=0.1, n_estimators=1000, scale_pos_weight=2.5)\n",
        "    \n",
        "lgbm.fit(X_train, y_train)\n",
        "\n",
        "\n",
        "# evaluate predictions\n",
        "y_train_predict_lgbm = lgbm.predict(X_train)\n",
        "\n",
        "print(\"==========================\")\n",
        "print('Train Accuracy %.3f' % metrics.accuracy_score(y_train, y_train_predict_lgbm))\n",
        "\n",
        "# make predictions for test data\n",
        "y_pred_lgbm = lgbm.predict(X_test)\n",
        "predictions = [round(value) for value in y_pred_lgbm]\n",
        "\n",
        "\n",
        "accuracy_per_roc_auc = roc_auc_score(y_test, predictions)\n",
        "print(\"ROC-AUC: %.10f%%\" % (accuracy_per_roc_auc * 100))\n",
        "\n",
        "\n",
        "print('Test Accuracy %.3f' % metrics.accuracy_score(y_test, predictions))\n",
        "print(\"==========================\")\n",
        "print(metrics.confusion_matrix(y_test, predictions))\n",
        "print(\"==========================\")\n",
        "print(metrics.classification_report(y_test, predictions))\n",
        "print(\"==========================\")\n",
        "print('Precision Score %.3f' % metrics.precision_score(y_test, predictions))\n",
        "print('Recall Score %.3f' % metrics.recall_score(y_test, predictions))\n",
        "print('F1 Score %.3f' % metrics.f1_score(y_test, predictions)) "
      ],
      "execution_count": null,
      "outputs": [
        {
          "output_type": "stream",
          "text": [
            "/usr/local/lib/python3.6/dist-packages/sklearn/preprocessing/_label.py:235: DataConversionWarning: A column-vector y was passed when a 1d array was expected. Please change the shape of y to (n_samples, ), for example using ravel().\n",
            "  y = column_or_1d(y, warn=True)\n",
            "/usr/local/lib/python3.6/dist-packages/sklearn/preprocessing/_label.py:268: DataConversionWarning: A column-vector y was passed when a 1d array was expected. Please change the shape of y to (n_samples, ), for example using ravel().\n",
            "  y = column_or_1d(y, warn=True)\n"
          ],
          "name": "stderr"
        },
        {
          "output_type": "stream",
          "text": [
            "==========================\n",
            "Train Accuracy 0.951\n",
            "ROC-AUC: 93.3265914451%\n",
            "Test Accuracy 0.939\n",
            "==========================\n",
            "[[114990   6836]\n",
            " [  2932  34971]]\n",
            "==========================\n",
            "              precision    recall  f1-score   support\n",
            "\n",
            "           0       0.98      0.94      0.96    121826\n",
            "           1       0.84      0.92      0.88     37903\n",
            "\n",
            "    accuracy                           0.94    159729\n",
            "   macro avg       0.91      0.93      0.92    159729\n",
            "weighted avg       0.94      0.94      0.94    159729\n",
            "\n",
            "==========================\n",
            "Precision Score 0.836\n",
            "Recall Score 0.923\n",
            "F1 Score 0.877\n"
          ],
          "name": "stdout"
        }
      ]
    },
    {
      "cell_type": "code",
      "metadata": {
        "id": "uo9OoYldd1wt",
        "outputId": "7e4bce61-0d30-4b7d-adea-a1e75cb3af3b",
        "colab": {
          "base_uri": "https://localhost:8080/",
          "height": 295
        }
      },
      "source": [
        "y_train_pred = lgbm.predict(X_train)    \n",
        "y_test_pred = lgbm.predict(X_test)\n",
        "\n",
        "\n",
        "train_fpr, train_tpr, tr_thresholds = roc_curve(y_train, y_train_pred)\n",
        "test_fpr, test_tpr, te_thresholds = roc_curve(y_test, y_test_pred)\n",
        "\n",
        "plt.plot(train_fpr, train_tpr, label=\"Train AUC =\"+str(auc(train_fpr, train_tpr)))\n",
        "plt.plot(test_fpr, test_tpr, label=\"Test AUC =\"+str(auc(test_fpr, test_tpr)))\n",
        "plt.legend()\n",
        "plt.xlabel(\"True Positive Rate(TPR)\", fontweight='bold')\n",
        "plt.ylabel(\"False Positive Rate(FPR)\", fontweight='bold')\n",
        "plt.title(\"ROC-AUC\")\n",
        "plt.grid()\n",
        "plt.show()  "
      ],
      "execution_count": null,
      "outputs": [
        {
          "output_type": "display_data",
          "data": {
            "image/png": "[encoded data removed]",
            "text/plain": [
              "<Figure size 432x288 with 1 Axes>"
            ]
          },
          "metadata": {
            "tags": [],
            "needs_background": "light"
          }
        }
      ]
    },
    {
      "cell_type": "markdown",
      "metadata": {
        "id": "TLiuU9NksHAs"
      },
      "source": [
        "###**10. Save Model using Joblib**"
      ]
    },
    {
      "cell_type": "code",
      "metadata": {
        "id": "b_P3Ed8_emp0"
      },
      "source": [
        "from sklearn.externals import joblib \n",
        "\n",
        "# Save the model as a pickle in a file \n",
        "joblib.dump(xg, 'xgboost.pkl') \n",
        "joblib.dump(cat_clf, 'catboost.pkl') \n",
        "joblib.dump(lgbm, 'lgbm.pkl');"
      ],
      "execution_count": null,
      "outputs": []
    },
    {
      "cell_type": "code",
      "metadata": {
        "id": "uQieGdIur-o4",
        "outputId": "82155b2c-6f4a-41a4-b609-0abe46fca2c7",
        "colab": {
          "base_uri": "https://localhost:8080/"
        }
      },
      "source": [
        "from prettytable import PrettyTable\n",
        "\n",
        "#If you get a ModuleNotFoundError error , install prettytable using: !pip install prettytable\n",
        "\n",
        "x = PrettyTable()\n",
        "x.field_names = [\"Model Used\", \"ROC-AUC\",\"Test Accuracy(%)\", \"Precision\"]\n",
        "\n",
        "x.add_row([\"CatBoost Classifier\",  93.37, 93.9, 0.834])\n",
        "x.add_row([\"XGBoost Classifier\",  89.98, 92.7, 0.844])\n",
        "x.add_row([\"LGBM Classifier\",  93.32, 93.9, 0.836])\n",
        "\n",
        "print(x)"
      ],
      "execution_count": null,
      "outputs": [
        {
          "output_type": "stream",
          "text": [
            "+---------------------+---------+------------------+-----------+\n",
            "|      Model Used     | ROC-AUC | Test Accuracy(%) | Precision |\n",
            "+---------------------+---------+------------------+-----------+\n",
            "| CatBoost Classifier |  93.37  |       93.9       |   0.834   |\n",
            "|  XGBoost Classifier |  89.98  |       92.7       |   0.844   |\n",
            "|   LGBM Classifier   |  93.32  |       93.9       |   0.836   |\n",
            "+---------------------+---------+------------------+-----------+\n"
          ],
          "name": "stdout"
        }
      ]
    },
    {
      "cell_type": "markdown",
      "metadata": {
        "id": "NnOLPXE6tGSB"
      },
      "source": [
        "###**11. Conclusion**\n",
        "\n",
        "- CatBoost is the clear winner here and all the models have done a good job.\n",
        "- Performance can be increaded further by considering text features too which I had to ignore since it would make the dimensions huge and the number of data points were also large, the notebook was crashing.\n",
        "- So, even with these features and few of engineered features, the model is performing very good."
      ]
    }
  ]
}